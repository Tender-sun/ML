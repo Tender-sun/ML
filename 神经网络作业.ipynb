{
  "nbformat": 4,
  "nbformat_minor": 0,
  "metadata": {
    "colab": {
      "name": "神经网络作业.ipynb",
      "provenance": [],
      "collapsed_sections": [
        "iV5Wut7ZS1kw",
        "CgPztjyUbL93",
        "9mZ8OT3CkGqd"
      ],
      "authorship_tag": "ABX9TyOBpPB9m5JkF4hUrd9+5dht",
      "include_colab_link": true
    },
    "kernelspec": {
      "name": "python3",
      "display_name": "Python 3"
    },
    "language_info": {
      "name": "python"
    }
  },
  "cells": [
    {
      "cell_type": "markdown",
      "metadata": {
        "id": "view-in-github",
        "colab_type": "text"
      },
      "source": [
        "<a href=\"https://colab.research.google.com/github/Tender-sun/ML/blob/main/%E7%A5%9E%E7%BB%8F%E7%BD%91%E7%BB%9C%E4%BD%9C%E4%B8%9A.ipynb\" target=\"_parent\"><img src=\"https://colab.research.google.com/assets/colab-badge.svg\" alt=\"Open In Colab\"/></a>"
      ]
    },
    {
      "cell_type": "markdown",
      "source": [
        "## 第一题"
      ],
      "metadata": {
        "id": "iV5Wut7ZS1kw"
      }
    },
    {
      "cell_type": "markdown",
      "source": [
        "#### 1.1A）写一个简单的程序计算损失函数相对于权重向量的梯度"
      ],
      "metadata": {
        "id": "dZRJKscQSqJk"
      }
    },
    {
      "cell_type": "code",
      "execution_count": 115,
      "metadata": {
        "id": "agatSht2Slyb"
      },
      "outputs": [],
      "source": [
        "def hinge_loss_grad(x,y,a):\n",
        "  return np.where(y*a>1,0,-y*x)"
      ]
    },
    {
      "cell_type": "markdown",
      "source": [
        "#### 1.2A）sigmoid函数相对于输入的导数"
      ],
      "metadata": {
        "id": "r8dgWP-9S9Tb"
      }
    },
    {
      "cell_type": "markdown",
      "source": [
        "答案：$sigmoid导数为\\frac{1}{1+e^{-x}}(1-\\frac{1}{1+e^{-x}})$"
      ],
      "metadata": {
        "id": "p-Sl3KnET_90"
      }
    },
    {
      "cell_type": "markdown",
      "source": [
        "#### 1.2B）o=sigmoid"
      ],
      "metadata": {
        "id": "jImlhnPCYCpx"
      }
    },
    {
      "cell_type": "markdown",
      "source": [
        "答案：$O(1-O)$"
      ],
      "metadata": {
        "id": "de7naI7DYi7C"
      }
    },
    {
      "cell_type": "markdown",
      "source": [
        "#### 1.2C）y=0时候，P(a,y)的值是多少？"
      ],
      "metadata": {
        "id": "jy3ANmG4Zl37"
      }
    },
    {
      "cell_type": "markdown",
      "source": [
        "答案：$y=0时候，P(a,y)=(1-a)$"
      ],
      "metadata": {
        "id": "tRtXcmcDZnNE"
      }
    },
    {
      "cell_type": "markdown",
      "source": [
        "#### 1.2D)y=1时候的P(a,y)的值为多少？"
      ],
      "metadata": {
        "id": "L5lE-t85ZzNx"
      }
    },
    {
      "cell_type": "markdown",
      "source": [
        "答案：$y=1时，P(a,y)=a$"
      ],
      "metadata": {
        "id": "JP630NufaTlO"
      }
    },
    {
      "cell_type": "markdown",
      "source": [
        "#### 1.2E))为找到不使用幂运算P(a,y)的简化表达式。n为找到一个不使用幂运算的简化表达式。请注意，我们在整个作业中提到自然对数，与课堂讲稿一致。\n"
      ],
      "metadata": {
        "id": "bgzPkOozahnI"
      }
    },
    {
      "cell_type": "markdown",
      "source": [
        "答案：使用负对数似然函数\n",
        "$$NLL=ylog(a)+(1-y)log(1-a)$$"
      ],
      "metadata": {
        "id": "X1kr1Yl2atr3"
      }
    },
    {
      "cell_type": "code",
      "source": [
        "print('y*log(a)+(1-y)*log(1-a)')"
      ],
      "metadata": {
        "colab": {
          "base_uri": "https://localhost:8080/"
        },
        "id": "faLIT23umwrl",
        "outputId": "6750b2a2-185d-4065-f0d8-4da7f7ec8ffa"
      },
      "execution_count": 78,
      "outputs": [
        {
          "output_type": "stream",
          "name": "stdout",
          "text": [
            "y*log(a)+(1-y)*log(1-a)\n"
          ]
        }
      ]
    },
    {
      "cell_type": "markdown",
      "source": [
        "#### 1.2.F)针对单个训练示例，为NLL相对于第一个权重的梯度$\\nabla_(w_1^L)NL(a_1^L,y)$写一个公式。提示:考虑使用链式规则；最后的答案(表达)很短。"
      ],
      "metadata": {
        "id": "Fecz7WMAtTQx"
      }
    },
    {
      "cell_type": "markdown",
      "source": [
        "答案：$x_1(a_1-y)$"
      ],
      "metadata": {
        "id": "rFA2SrKPuNVG"
      }
    },
    {
      "cell_type": "code",
      "source": [
        "print('x1*(a1-y)')"
      ],
      "metadata": {
        "colab": {
          "base_uri": "https://localhost:8080/"
        },
        "id": "Bk2QrKo3uYpH",
        "outputId": "0688097a-d71d-40f7-8e18-2dca13b29c40"
      },
      "execution_count": 79,
      "outputs": [
        {
          "output_type": "stream",
          "name": "stdout",
          "text": [
            "x1*(a1-y)\n"
          ]
        }
      ]
    },
    {
      "cell_type": "markdown",
      "source": [
        "#### 1.2G)针对单个训练示例，为NLL相对于全权重向量的梯度写一个公式。\n"
      ],
      "metadata": {
        "id": "Trqn_LXIazmY"
      }
    },
    {
      "cell_type": "markdown",
      "source": [
        "答案：$x(a_1-y)$"
      ],
      "metadata": {
        "id": "GPIOYWjLu0nI"
      }
    },
    {
      "cell_type": "code",
      "source": [
        "print('(a_1-y)*x')"
      ],
      "metadata": {
        "colab": {
          "base_uri": "https://localhost:8080/"
        },
        "id": "WZLH3BW1usEW",
        "outputId": "c56834da-ceed-40f0-cd0e-60f0cd7738d1"
      },
      "execution_count": 81,
      "outputs": [
        {
          "output_type": "stream",
          "name": "stdout",
          "text": [
            "(a_1-y)*x\n"
          ]
        }
      ]
    },
    {
      "cell_type": "markdown",
      "source": [
        "## 第二题：多类分类"
      ],
      "metadata": {
        "id": "CgPztjyUbL93"
      }
    },
    {
      "cell_type": "markdown",
      "source": [
        "#### 2.A) $z^L=[-1,0,1]^T$表示类别的概率分布是什么"
      ],
      "metadata": {
        "id": "xEtZ1CjDeGT8"
      }
    },
    {
      "cell_type": "code",
      "source": [
        "import numpy as np\n",
        "def SM(Z):\n",
        "  e = np.exp(Z)\n",
        "  return e/np.sum(e)\n",
        "def RELU(Z):\n",
        "  Z=np.max(0,Z)\n",
        "  return Z\n",
        "zl=[-1,0,1]\n",
        "zl_l = SM(zl)\n",
        "zl_l"
      ],
      "metadata": {
        "colab": {
          "base_uri": "https://localhost:8080/"
        },
        "id": "76QjgfwPTOcq",
        "outputId": "a2c46c56-47f1-419b-d70e-d2fe6d0d79e0"
      },
      "execution_count": 77,
      "outputs": [
        {
          "output_type": "execute_result",
          "data": {
            "text/plain": [
              "array([0.09003057, 0.24472847, 0.66524096])"
            ]
          },
          "metadata": {},
          "execution_count": 77
        }
      ]
    },
    {
      "cell_type": "markdown",
      "source": [
        "答案： [0.09003057, 0.24472847, 0.66524096]"
      ],
      "metadata": {
        "id": "2xQH-8w0eO3_"
      }
    },
    {
      "cell_type": "markdown",
      "source": [
        "#### 2.B)如果$𝑎 = [.3, .5, .2]^T$且$y=[0,0,1]^T$ ,那么NLL(a,y)是多少？"
      ],
      "metadata": {
        "id": "-PsUu4kVe_IR"
      }
    },
    {
      "cell_type": "markdown",
      "source": [
        "答案：$-(log(0.7)+log(0.5)+log(0.2))=-log(0.07)$"
      ],
      "metadata": {
        "id": "S76oRrgzglxD"
      }
    },
    {
      "cell_type": "markdown",
      "source": [
        "#### 2.C)假设我们有两个输入单位和三个可能的输出值，权重矩阵$W^T$为"
      ],
      "metadata": {
        "id": "6xOmHmBPgltm"
      }
    },
    {
      "cell_type": "markdown",
      "source": [
        "答案：实现代码如下"
      ],
      "metadata": {
        "id": "CNqnqxkUxyzW"
      }
    },
    {
      "cell_type": "code",
      "source": [
        "w = np.array([[1,-1,-2],[-1,2,1]])\n",
        "x = np.array([[1,1]])\n",
        "y = np.array([0,1,0])\n",
        "z = np.dot(x,w)\n",
        "a = SM(z)\n",
        "res = np.dot(x.T,(a-y))\n",
        "res2 = np.round(res,3)\n",
        "res2"
      ],
      "metadata": {
        "colab": {
          "base_uri": "https://localhost:8080/"
        },
        "id": "yT-bEHv4qHI0",
        "outputId": "76b79ce7-965a-4ddd-d774-3dc97c475280"
      },
      "execution_count": 92,
      "outputs": [
        {
          "output_type": "execute_result",
          "data": {
            "text/plain": [
              "array([[ 0.245, -0.335,  0.09 ],\n",
              "       [ 0.245, -0.335,  0.09 ]])"
            ]
          },
          "metadata": {},
          "execution_count": 92
        }
      ]
    },
    {
      "cell_type": "markdown",
      "source": [
        "#### 2.D)在任何梯度更新之前，1类中的预测概率是多少？(假设我们有类0、1和2。)"
      ],
      "metadata": {
        "id": "Qf8NQpocglWm"
      }
    },
    {
      "cell_type": "markdown",
      "source": [
        "答案："
      ],
      "metadata": {
        "id": "9MqGqX_2hbFS"
      }
    },
    {
      "cell_type": "code",
      "source": [
        "print(a) #a=SM(np.dot(x,w))"
      ],
      "metadata": {
        "colab": {
          "base_uri": "https://localhost:8080/"
        },
        "id": "jOl4w2sM1zZq",
        "outputId": "478a3f94-ae47-4e83-8326-b31ae8247895"
      },
      "execution_count": 96,
      "outputs": [
        {
          "output_type": "stream",
          "name": "stdout",
          "text": [
            "[[0.24472847 0.66524096 0.09003057]]\n"
          ]
        }
      ]
    },
    {
      "cell_type": "markdown",
      "source": [
        "#### 2.E使用步长0.5，一个梯度更新步骤后$W^T$是多少？"
      ],
      "metadata": {
        "id": "dEo1VGCah3e4"
      }
    },
    {
      "cell_type": "markdown",
      "source": [
        "答案：array([[ 0.87763576, -0.83262048, -2.04501529],\n",
        "       [-1.12236424,  2.16737952,  0.95498471]]),代码如下"
      ],
      "metadata": {
        "id": "FqwnJQSojR4z"
      }
    },
    {
      "cell_type": "code",
      "source": [
        "w_new = w-0.5*res\n",
        "w_new"
      ],
      "metadata": {
        "colab": {
          "base_uri": "https://localhost:8080/"
        },
        "id": "_iWiGnYl2rGD",
        "outputId": "820cf9a7-8f8f-459b-d870-1e7a3cd36ca4"
      },
      "execution_count": 97,
      "outputs": [
        {
          "output_type": "execute_result",
          "data": {
            "text/plain": [
              "array([[ 0.87763576, -0.83262048, -2.04501529],\n",
              "       [-1.12236424,  2.16737952,  0.95498471]])"
            ]
          },
          "metadata": {},
          "execution_count": 97
        }
      ]
    },
    {
      "cell_type": "markdown",
      "source": [
        "#### 2.F给定新的权重矩阵，x在1类中的预测概率是多少？"
      ],
      "metadata": {
        "id": "l1S6yeHIjRsW"
      }
    },
    {
      "cell_type": "markdown",
      "source": [
        "答案："
      ],
      "metadata": {
        "id": "3lFqe62QjRPs"
      }
    },
    {
      "cell_type": "code",
      "source": [
        "p_new = SM(np.dot(x,w_new))\n",
        "p_new"
      ],
      "metadata": {
        "colab": {
          "base_uri": "https://localhost:8080/"
        },
        "id": "Oi4SxqYA28SZ",
        "outputId": "04c0f17e-9b9a-4a7c-c537-a3071ab2f26f"
      },
      "execution_count": 99,
      "outputs": [
        {
          "output_type": "execute_result",
          "data": {
            "text/plain": [
              "array([[0.15918761, 0.77245284, 0.06835955]])"
            ]
          },
          "metadata": {},
          "execution_count": 99
        }
      ]
    },
    {
      "cell_type": "markdown",
      "source": [
        "## 第三题：神经网络"
      ],
      "metadata": {
        "id": "9mZ8OT3CkGqd"
      }
    },
    {
      "cell_type": "markdown",
      "source": [
        "#### 3.1A)输出：我们考虑$x_1=3,x2=14$,求隐藏单元的输出结果$(f^1(z_1^1),f^1(z_2^1),f^1(z_3^1),f^1(z_4^1)$"
      ],
      "metadata": {
        "id": "ivIMRjYXskfp"
      }
    },
    {
      "cell_type": "code",
      "source": [
        "def relu(x):\n",
        "    return np.maximum(0, x)\n",
        "X=np.array([3,14])\n",
        "W1=np.array([[1,0,-1,0],[0,1,0,-1]])\n",
        "W0=np.array([[-1,-1,-1,-1]])\n",
        "W2=np.array([[1,-1],[1,-1],[1,-1],[1,-1]])\n",
        "W20=np.array([[0],[2]])\n",
        "Z1 = np.dot(X.T,W1)+W0\n",
        "A1 =relu(Z1)\n",
        "print('激活前',Z1,\"激活后\",A1)\n"
      ],
      "metadata": {
        "colab": {
          "base_uri": "https://localhost:8080/"
        },
        "id": "StMV8VIoC_B3",
        "outputId": "8f8479b3-acdf-43ff-947c-a6901c3eb66f"
      },
      "execution_count": 38,
      "outputs": [
        {
          "output_type": "stream",
          "name": "stdout",
          "text": [
            "激活前 [[  2  13  -4 -15]] 激活后 [[ 2 13  0  0]]\n"
          ]
        }
      ]
    },
    {
      "cell_type": "markdown",
      "source": [
        "答案 ：[[  2,  13,  0, 0]]"
      ],
      "metadata": {
        "id": "HvuXDYLh_F_2"
      }
    },
    {
      "cell_type": "markdown",
      "source": [
        "#### 3.1B) 网络的最终输出$a_1^2,a_2^2$是什么？"
      ],
      "metadata": {
        "id": "jHdueEWxDAOo"
      }
    },
    {
      "cell_type": "code",
      "source": [
        "Z2 = np.dot(A1,W2)+W20.T\n",
        "W1"
      ],
      "metadata": {
        "colab": {
          "base_uri": "https://localhost:8080/"
        },
        "id": "EeJmgTCLDV2w",
        "outputId": "b8a0fe94-537a-42a2-8f54-2ae9f382ec11"
      },
      "execution_count": 52,
      "outputs": [
        {
          "output_type": "execute_result",
          "data": {
            "text/plain": [
              "array([[ 1,  0, -1,  0],\n",
              "       [ 0,  1,  0, -1]])"
            ]
          },
          "metadata": {},
          "execution_count": 52
        }
      ]
    },
    {
      "cell_type": "code",
      "source": [
        "SM(Z2)"
      ],
      "metadata": {
        "id": "BojPggbgsjVm",
        "colab": {
          "base_uri": "https://localhost:8080/"
        },
        "outputId": "d5cff75d-feec-4d48-a974-6fe82134da93"
      },
      "execution_count": 51,
      "outputs": [
        {
          "output_type": "execute_result",
          "data": {
            "text/plain": [
              "array([[1.00000000e+00, 6.91440011e-13]])"
            ]
          },
          "metadata": {},
          "execution_count": 51
        }
      ]
    },
    {
      "cell_type": "markdown",
      "source": [
        "答案：[1.00000000e+00, 6.91440011e-13]"
      ],
      "metadata": {
        "id": "9GnNtfvEG2sw"
      }
    },
    {
      "cell_type": "markdown",
      "source": [
        "#### 3.2.A)单个单元的决策边界是什么形状？\n"
      ],
      "metadata": {
        "id": "zgD9AUknG7dC"
      }
    },
    {
      "cell_type": "code",
      "source": [
        "import matplotlib.pyplot as plt\n",
        "x=np.linspace(-3,3,100)\n",
        "x1=np.zeros(100)\n",
        "x2=np.zeros(100)\n",
        "x1[:]=1\n",
        "x2[:]=-1\n",
        "y=np.linspace(-3,3,100)\n",
        "x3 = np.linspace(-3,3,100)\n",
        "x4 = np.linspace(-3,3,100)\n",
        "y3=np.ones(100)\n",
        "y4=-np.ones(100)\n",
        "plt.plot(x3,y3)# z2\n",
        "plt.plot(x1,y)# z1直线\n",
        "plt.plot(x2,y)# z3\n",
        "plt.plot(x4,y4)#z4\n",
        "plt.xlabel('x1')\n",
        "plt.ylabel('x2')\n",
        "plt.title('decision-boundary')\n",
        "plt.legend()"
      ],
      "metadata": {
        "id": "QAUOj2UqZj7g",
        "colab": {
          "base_uri": "https://localhost:8080/",
          "height": 330
        },
        "outputId": "6485981d-ceab-4940-af68-e9050d971fd3"
      },
      "execution_count": 75,
      "outputs": [
        {
          "output_type": "stream",
          "name": "stderr",
          "text": [
            "No handles with labels found to put in legend.\n"
          ]
        },
        {
          "output_type": "execute_result",
          "data": {
            "text/plain": [
              "<matplotlib.legend.Legend at 0x7f614504f510>"
            ]
          },
          "metadata": {},
          "execution_count": 75
        },
        {
          "output_type": "display_data",
          "data": {
            "image/png": "[encoded data removed]",
            "text/plain": [
              "<Figure size 432x288 with 1 Axes>"
            ]
          },
          "metadata": {
            "needs_background": "light"
          }
        }
      ]
    },
    {
      "cell_type": "markdown",
      "source": [
        "答案：决策边界是一个直线"
      ],
      "metadata": {
        "id": "yTyi_cnFQL_8"
      }
    },
    {
      "cell_type": "markdown",
      "source": [
        "### 输入一个2×4的矩阵，其中每一列代表一个(不同的)输入向量 ，每个向量位于第一个单位的决策边界上，也就是说， 。(有多种可能的答案。)"
      ],
      "metadata": {
        "id": "7muXc--DQ0qZ"
      }
    },
    {
      "cell_type": "markdown",
      "source": [
        "x_new=np.array([[1,1],[1,2],[1,3],[1,4]])"
      ],
      "metadata": {
        "id": "LTsO9Fx0Q2ry"
      }
    },
    {
      "cell_type": "code",
      "source": [
        "x_new=np.array([[1,1],[1,2],[1,3],[1,4]])\n",
        "Z1_new = np.dot(x_new,W1)+W0\n",
        "Z1_new"
      ],
      "metadata": {
        "colab": {
          "base_uri": "https://localhost:8080/"
        },
        "id": "A0I2csjmO5Vb",
        "outputId": "4c804b62-c369-4d43-8b38-cf9509193938"
      },
      "execution_count": 65,
      "outputs": [
        {
          "output_type": "execute_result",
          "data": {
            "text/plain": [
              "array([[ 0,  0, -2, -2]])"
            ]
          },
          "metadata": {},
          "execution_count": 65
        }
      ]
    },
    {
      "cell_type": "markdown",
      "source": [
        "答案：上面的运行结果显示，当我们输入x_new时候，z的矩阵中第一列表示z1全为0，详细输入如下结果"
      ],
      "metadata": {
        "id": "wpk5sHnhRvH3"
      }
    },
    {
      "cell_type": "code",
      "source": [
        "np.array([[1,1],[1,2],[1,3],[1,4]])"
      ],
      "metadata": {
        "colab": {
          "base_uri": "https://localhost:8080/"
        },
        "id": "jgywGQfxRMrz",
        "outputId": "070da718-b199-45d2-b633-3d24cc32bf85"
      },
      "execution_count": 64,
      "outputs": [
        {
          "output_type": "execute_result",
          "data": {
            "text/plain": [
              "array([[1, 1],\n",
              "       [1, 2],\n",
              "       [1, 3],\n",
              "       [1, 4]])"
            ]
          },
          "metadata": {},
          "execution_count": 64
        }
      ]
    },
    {
      "cell_type": "markdown",
      "source": [
        "#### 3.2C)考虑以下输入向量: 。输入矩阵，其中每列代表每个输入向量的隐藏单位 的输出。你可以使用你的决策边界图。\n"
      ],
      "metadata": {
        "id": "YPjjtiV3TFVw"
      }
    },
    {
      "cell_type": "markdown",
      "source": [
        "答案：代码和答案结果如下"
      ],
      "metadata": {
        "id": "1q0xJZVgVi03"
      }
    },
    {
      "cell_type": "code",
      "source": [
        "x_new32c=np.array([[0.5,0.5],[0,2],[-3,0.5]])\n",
        "Z_32=np.dot(x_new32c,W1)+W0\n",
        "A_32=relu(Z_32)\n",
        "A_32.T"
      ],
      "metadata": {
        "colab": {
          "base_uri": "https://localhost:8080/"
        },
        "id": "7CVP9truSVnU",
        "outputId": "24a2d924-e809-4c76-a1d3-6a322404a3c0"
      },
      "execution_count": 72,
      "outputs": [
        {
          "output_type": "execute_result",
          "data": {
            "text/plain": [
              "array([[0., 0., 0.],\n",
              "       [0., 1., 0.],\n",
              "       [0., 0., 2.],\n",
              "       [0., 0., 0.]])"
            ]
          },
          "metadata": {},
          "execution_count": 72
        }
      ]
    },
    {
      "cell_type": "markdown",
      "source": [
        "#### 3.3网络输出\n",
        "在我们上面的网络中，具有两个softmax单元的输出层用于分类为两类之一。对于类别1，第一个单元的输出应该\n",
        "大于另一个单元的输出，对于类别2，第二个单元的输出应该更大。这通过使用输出单元很好地推广到类。\n",
        "(我们之前已经研究了使用带有sigmoid激活的单个输出单元解决两类分类问题；这是解决这些问题的另一种方\n",
        "式。)\n",
        "让我们来描述一下空间中的区域，其中这个网络的输出表示第一类(即$a_2^2$更大)或表示第二类(即$a_2^2$更大)。上一部分的图表在这里会很有用\n",
        "在以下每种情况下，神经网络的输出值是多少？把你 的答案a写成表达式，你可以用，例如，e2 + 1的幂；指\n",
        "数可以是负的，$e^{-2}$ + 1。\n"
      ],
      "metadata": {
        "id": "GI2x2eIqUeSV"
      }
    },
    {
      "cell_type": "markdown",
      "source": [
        "##### 3.3.A)$a_1^2 =?$"
      ],
      "metadata": {
        "id": "wS0Dgfqs6K-R"
      }
    },
    {
      "cell_type": "code",
      "source": [
        "print(SM([0,2])[0])"
      ],
      "metadata": {
        "colab": {
          "base_uri": "https://localhost:8080/"
        },
        "id": "5engRqMvTSrH",
        "outputId": "070be5de-92a1-4e48-c5f9-458f6d5af118"
      },
      "execution_count": 103,
      "outputs": [
        {
          "output_type": "stream",
          "name": "stdout",
          "text": [
            "0.11920292202211755\n"
          ]
        }
      ]
    },
    {
      "cell_type": "markdown",
      "source": [
        "3.3.B)$a_2^2 =?$"
      ],
      "metadata": {
        "id": "9lU6A-UK9vZ9"
      }
    },
    {
      "cell_type": "code",
      "source": [
        "print(SM([0,2])[1])"
      ],
      "metadata": {
        "colab": {
          "base_uri": "https://localhost:8080/"
        },
        "id": "DValNftJ9ubt",
        "outputId": "a51b2eec-8f56-438e-d6ed-6c296715d5fa"
      },
      "execution_count": 104,
      "outputs": [
        {
          "output_type": "stream",
          "name": "stdout",
          "text": [
            "0.8807970779778824\n"
          ]
        }
      ]
    },
    {
      "cell_type": "markdown",
      "source": [
        "#### 3.3.C)预测他是哪一类"
      ],
      "metadata": {
        "id": "r2eOAd3d-Y-E"
      }
    },
    {
      "cell_type": "markdown",
      "source": [
        "答案：通过比较两个概率的大小，我们发现第二类的概率更大"
      ],
      "metadata": {
        "id": "ViHi_nYt_A2t"
      }
    },
    {
      "cell_type": "markdown",
      "source": [
        "#### 案例2：$f(z_1^1)+f(z_2^1)+f(z_3^1)+f(z_4^1)=1$"
      ],
      "metadata": {
        "id": "l7MyYCgQFi5C"
      }
    },
    {
      "cell_type": "markdown",
      "source": [
        "解析：因为这四个激活后的值和为1，有因为w权重的第二层每一列值都一样，所以\n",
        "$$z_1^2=f(z_1^1)+f(z_2^1)+f(z_3^1)+f(z_4^1)+0=1$$\n",
        "$$z_2^2=-f(z_1^1)-f(z_2^1)-f(z_3^1)-f(z_4^1)+2=1$$\n",
        "所以我们得到z2=[1,1]"
      ],
      "metadata": {
        "id": "1urddlDKGDGU"
      }
    },
    {
      "cell_type": "code",
      "source": [
        "pp_33 =SM([1,1])"
      ],
      "metadata": {
        "id": "TvVZfLpT-V9_"
      },
      "execution_count": 106,
      "outputs": []
    },
    {
      "cell_type": "markdown",
      "source": [
        "#### 3.3D)$a_1^2=?$"
      ],
      "metadata": {
        "id": "YAogbJcBEmu6"
      }
    },
    {
      "cell_type": "code",
      "source": [
        "#这里就是第一个概率\n",
        "print(pp_33[0])"
      ],
      "metadata": {
        "colab": {
          "base_uri": "https://localhost:8080/"
        },
        "id": "aGcMHB5JA6aK",
        "outputId": "f9f56e2d-af89-4358-d285-58132d97b5a2"
      },
      "execution_count": 108,
      "outputs": [
        {
          "output_type": "stream",
          "name": "stdout",
          "text": [
            "0.5\n"
          ]
        }
      ]
    },
    {
      "cell_type": "markdown",
      "source": [
        "3.3E)$a_2^2=?$"
      ],
      "metadata": {
        "id": "41MWYU9XFWOX"
      }
    },
    {
      "cell_type": "code",
      "source": [
        "#第二个概率\n",
        "print(pp_33[1])"
      ],
      "metadata": {
        "colab": {
          "base_uri": "https://localhost:8080/"
        },
        "id": "cgG1nkIPA-Dp",
        "outputId": "8f84bab4-ad0f-42ac-9cb0-3789a2825f93"
      },
      "execution_count": 109,
      "outputs": [
        {
          "output_type": "stream",
          "name": "stdout",
          "text": [
            "0.5\n"
          ]
        }
      ]
    },
    {
      "cell_type": "markdown",
      "source": [
        "#### 3.3F)预测为哪一类？"
      ],
      "metadata": {
        "id": "croe0JtKKr3q"
      }
    },
    {
      "cell_type": "markdown",
      "source": [
        "答案：预测为第一类/第二类（二者概率相同）"
      ],
      "metadata": {
        "id": "k4MC78ZHKvvW"
      }
    },
    {
      "cell_type": "markdown",
      "source": [
        "#### 案例3：$f(z_1^1)+f(z_2^1)+f(z_3^1)+f(z_4^1)=3$"
      ],
      "metadata": {
        "id": "kpvGOTlvH3du"
      }
    },
    {
      "cell_type": "markdown",
      "source": [
        "解析：因为这四个激活后的值和为3，有因为w权重的第二层每一列值都一样，所以\n",
        "$$z_1^2=f(z_1^1)+f(z_2^1)+f(z_3^1)+f(z_4^1)+0=3$$\n",
        "$$z_2^2=-f(z_1^1)-f(z_2^1)-f(z_3^1)-f(z_4^1)+2=-1$$\n",
        "所以我们得到z2=[3,-1]"
      ],
      "metadata": {
        "id": "sGFUUwlKH-nO"
      }
    },
    {
      "cell_type": "code",
      "source": [
        "ppp_new = SM([3,-1])"
      ],
      "metadata": {
        "id": "l-HodXcZFh34"
      },
      "execution_count": 110,
      "outputs": []
    },
    {
      "cell_type": "markdown",
      "source": [
        "#### 3.3G)$a_1^2=?$"
      ],
      "metadata": {
        "id": "givqcVOOJAbz"
      }
    },
    {
      "cell_type": "code",
      "source": [
        "print(ppp_new[0])"
      ],
      "metadata": {
        "colab": {
          "base_uri": "https://localhost:8080/"
        },
        "id": "ng72ALqWKIxG",
        "outputId": "94175b2c-2c66-4b32-8caf-ffd7324db979"
      },
      "execution_count": 112,
      "outputs": [
        {
          "output_type": "stream",
          "name": "stdout",
          "text": [
            "0.9820137900379085\n"
          ]
        }
      ]
    },
    {
      "cell_type": "markdown",
      "source": [
        "#### 3.3H)$a_2^2=?$"
      ],
      "metadata": {
        "id": "PTdwwcj0KPZe"
      }
    },
    {
      "cell_type": "code",
      "source": [
        "print(ppp_new[1])"
      ],
      "metadata": {
        "colab": {
          "base_uri": "https://localhost:8080/"
        },
        "id": "WLn2EDnmKj3H",
        "outputId": "480d74d8-8f31-4d72-d1d1-b998ea2a793c"
      },
      "execution_count": 113,
      "outputs": [
        {
          "output_type": "stream",
          "name": "stdout",
          "text": [
            "0.01798620996209156\n"
          ]
        }
      ]
    },
    {
      "cell_type": "markdown",
      "source": [
        "### 3.3I)预测为哪一类？"
      ],
      "metadata": {
        "id": "1yhmyYxyKabG"
      }
    },
    {
      "cell_type": "markdown",
      "source": [
        "答案：这里预测为第一类"
      ],
      "metadata": {
        "id": "lVQEK7DcKh3O"
      }
    },
    {
      "cell_type": "code",
      "source": [
        ""
      ],
      "metadata": {
        "id": "XPFJwD2TKUZG"
      },
      "execution_count": null,
      "outputs": []
    }
  ]
}