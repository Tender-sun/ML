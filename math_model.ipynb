{
  "nbformat": 4,
  "nbformat_minor": 0,
  "metadata": {
    "colab": {
      "name": "math_model.ipynb",
      "provenance": [],
      "toc_visible": true,
      "authorship_tag": "ABX9TyOFwBmMrg7OQ5CQH9LrWmQK",
      "include_colab_link": true
    },
    "kernelspec": {
      "name": "python3",
      "display_name": "Python 3"
    },
    "language_info": {
      "name": "python"
    },
    "accelerator": "GPU"
  },
  "cells": [
    {
      "cell_type": "markdown",
      "metadata": {
        "id": "view-in-github",
        "colab_type": "text"
      },
      "source": [
        "<a href=\"https://colab.research.google.com/github/Tender-sun/ML/blob/main/math_model.ipynb\" target=\"_parent\"><img src=\"https://colab.research.google.com/assets/colab-badge.svg\" alt=\"Open In Colab\"/></a>"
      ]
    },
    {
      "cell_type": "code",
      "metadata": {
        "id": "8EqGLsFrrSvT"
      },
      "source": [
        "import pandas as pd"
      ],
      "execution_count": 2,
      "outputs": []
    },
    {
      "cell_type": "code",
      "metadata": {
        "id": "V9sP7SnGr7I9"
      },
      "source": [
        "file = '111.csv'\n",
        "data = pd.read_csv(file,lineterminator=\"\\n\")"
      ],
      "execution_count": 5,
      "outputs": []
    },
    {
      "cell_type": "code",
      "metadata": {
        "colab": {
          "base_uri": "https://localhost:8080/"
        },
        "id": "B0PicpGmr9Gv",
        "outputId": "cf0b125d-734f-444a-be62-06238dcd1c85"
      },
      "source": [
        "x1_data = data['Co/SiO2含量']\n",
        "x2_data=data['Co负载量']\n",
        "x3_data=data['HAP含量']\n",
        "x4_data=data['乙醇浓度']\n",
        "y_data=data[\"C4烯烃收率\"]\n",
        "print(len(x1_data))\n",
        "lr = 1e-5\n",
        "theta0 = 0\n",
        "theta1 = 0\n",
        "theta2 = 0\n",
        "theta3 = 0\n",
        "theta4 = 0"
      ],
      "execution_count": 6,
      "outputs": [
        {
          "output_type": "stream",
          "name": "stdout",
          "text": [
            "18\n"
          ]
        }
      ]
    },
    {
      "cell_type": "code",
      "metadata": {
        "id": "BVadV0apr_PZ"
      },
      "source": [
        "#计算损失函数\n",
        "def compute_error(theta0, thetal, theta2, theta3, theta4,xl_data,x2_data,x3_data, x4_data, y_data) :\n",
        "    totalerror=0\n",
        "    for i in range(0, len(x1_data)):\n",
        "        totalerror=totalerror+ (y_data[i]- (theta1*x1_data[i]+theta2*x2_data[i]+theta3*x3_data[i] +theta4*x4_data[i] +theta0))**2\n",
        "    return totalerror/float(len(x1_data))/4\n",
        "#梯度下降进行多元线性回归\n",
        "def gradient_descent_runner(x1_data,x2_data,x3_data,x4_data,y_data,theta0,theta1,theta2,theta3,theta4,lr,epochs):\n",
        "    m=len(x1_data)\n",
        "    #for i in range(epochs):\n",
        "    cnt = 0 #定义迭代次数\n",
        "    while(abs(compute_error(theta0,theta1,theta2,theta3,theta4,x1_data,x2_data,x3_data,x4_data,y_data))>1):\n",
        "        cnt += 1\n",
        "        theta0_grad = 0\n",
        "        theta1_grad = 0\n",
        "        theta2_grad = 0\n",
        "        theta3_grad = 0\n",
        "        theta4_grad = 0\n",
        "        for j in range(0,m):\n",
        "            theta0_grad-=(1/m)*(-(theta1*x1_data[j]+theta2*x2_data[j]+theta3*x3_data[j]+theta4*x4_data[j]+theta0)+y_data[j])\n",
        "            theta1_grad-=(1/m)*x1_data[j]*(-(theta1*x1_data[j]+theta2*x2_data[j]+theta3*x3_data[j]+theta4*x4_data[j]+theta0)+y_data[j])\n",
        "            theta2_grad-=(1/m)*x2_data[j]*(-(theta1*x1_data[j]+theta2*x2_data[j]+theta3*x3_data[j]+theta4*x4_data[j]+theta0)+y_data[j])\n",
        "            theta3_grad-=(1/m)*x3_data[j]*(-(theta1*x1_data[j]+theta2*x2_data[j]+theta3*x3_data[j]+theta4*x4_data[j]+theta0)+y_data[j])\n",
        "            theta4_grad-=(1/m)*x4_data[j]*(-(theta1*x1_data[j]+theta2*x2_data[j]+theta3*x3_data[j]+theta4*x4_data[j]+theta0)+y_data[j])\n",
        "        theta0 = theta0 - lr*theta0_grad\n",
        "        theta1 = theta1 - lr*theta1_grad\n",
        "        theta2 = theta2 - lr*theta2_grad\n",
        "        theta3 = theta3 - lr*theta3_grad\n",
        "        theta4 = theta4 - lr*theta4_grad\n",
        "    return theta0,theta1,theta2,theta3,theta4"
      ],
      "execution_count": 7,
      "outputs": []
    },
    {
      "cell_type": "code",
      "metadata": {
        "id": "wnyUbMnZsFaH"
      },
      "source": [
        "lr = 1e-5\n",
        "theta0 = 0\n",
        "theta1 = 0\n",
        "theta2 = 0\n",
        "theta3 = 0\n",
        "theta4 = 0\n",
        "epochs = 10000\n",
        "theta0,theta1,theta2,theta3,theta4=gradient_descent_runner(x1_data,x2_data, x3_data,x4_data,y_data,theta0,theta1,theta2,theta3,theta4,lr,epochs)\n",
        "print('未限定温度时的结果：迭代次数：{0} ,代价函数为{1}'.format(epochs,compute_error(theta0,theta1,theta2,theta3,theta4,x1_data,x2_data,x3_data,x4_data,y_data)))\n",
        "compute_error(theta0,theta1,theta2,theta3,theta4,x1_data,x2_data,x3_data,x4_data,y_data)"
      ],
      "execution_count": null,
      "outputs": []
    },
    {
      "cell_type": "code",
      "metadata": {
        "id": "9duCKD5isJdG"
      },
      "source": [
        ""
      ],
      "execution_count": null,
      "outputs": []
    }
  ]
}